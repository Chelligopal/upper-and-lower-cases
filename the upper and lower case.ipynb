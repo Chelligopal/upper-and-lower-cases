{
 "cells": [
  {
   "cell_type": "code",
   "execution_count": 1,
   "id": "a9955046",
   "metadata": {},
   "outputs": [
    {
     "name": "stdout",
     "output_type": "stream",
     "text": [
      "Lower case characters:  12\n",
      "Upper case characters:  3\n"
     ]
    }
   ],
   "source": [
    "\n",
    "s = 'The quick Brow Fox'\n",
    "u,l = 0,0\n",
    "for i in s:\n",
    "    if (i>='a'and i<='z'):\n",
    "          \n",
    "        # counting lower case\n",
    "        l=l+1                 \n",
    "    if (i>='A'and i<='Z'):\n",
    "          \n",
    "        #counting upper case\n",
    "        u=u+1   \n",
    "          \n",
    "print('Lower case characters: ',l)\n",
    "print('Upper case characters: ',u)"
   ]
  },
  {
   "cell_type": "code",
   "execution_count": null,
   "id": "d7f640b1",
   "metadata": {},
   "outputs": [],
   "source": []
  }
 ],
 "metadata": {
  "kernelspec": {
   "display_name": "Python 3 (ipykernel)",
   "language": "python",
   "name": "python3"
  },
  "language_info": {
   "codemirror_mode": {
    "name": "ipython",
    "version": 3
   },
   "file_extension": ".py",
   "mimetype": "text/x-python",
   "name": "python",
   "nbconvert_exporter": "python",
   "pygments_lexer": "ipython3",
   "version": "3.10.1"
  }
 },
 "nbformat": 4,
 "nbformat_minor": 5
}
